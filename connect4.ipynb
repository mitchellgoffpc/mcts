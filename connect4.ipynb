{
 "cells": [
  {
   "attachments": {},
   "cell_type": "markdown",
   "metadata": {},
   "source": [
    "# MCTS in MCTX\n",
    "\n",
    "In this example, we will use the `mctx` library to play the game of Connect 4.\n",
    "We will implement the Monte Carlo Tree Search (MCTS) algorithm with random rollouts."
   ]
  },
  {
   "attachments": {},
   "cell_type": "markdown",
   "metadata": {},
   "source": [
    "## Game mechanics"
   ]
  },
  {
   "attachments": {},
   "cell_type": "markdown",
   "metadata": {},
   "source": [
    "Let's start by defining some type aliases to make the code more readable."
   ]
  },
  {
   "cell_type": "code",
   "execution_count": 1,
   "metadata": {},
   "outputs": [],
   "source": [
    "import chex\n",
    "\n",
    "# 6x7 board\n",
    "# We use the following coordinate system:\n",
    "#   ^\n",
    "#   |\n",
    "#   |\n",
    "#   |\n",
    "# 0 +-------->\n",
    "#   0\n",
    "Board = chex.Array\n",
    "\n",
    "# Index of the column to play\n",
    "Action = chex.Array\n",
    "\n",
    "# Let's assume the game is played by players X and O.\n",
    "# 1 if player X, -1 if player O\n",
    "Player = chex.Array\n",
    "\n",
    "# Reward for the player who played the action.\n",
    "# 1 for winning, 0 for draw, -1 for losing\n",
    "Reward = chex.Array\n",
    "\n",
    "# True/False if the game is over\n",
    "Done = chex.Array"
   ]
  },
  {
   "attachments": {},
   "cell_type": "markdown",
   "metadata": {},
   "source": [
    "Now, we create a class defining the game state at a given time."
   ]
  },
  {
   "cell_type": "code",
   "execution_count": 2,
   "metadata": {},
   "outputs": [],
   "source": [
    "@chex.dataclass\n",
    "class Env:\n",
    "    board: Board\n",
    "    player: Player\n",
    "    done: Done\n",
    "    reward: Reward"
   ]
  },
  {
   "attachments": {},
   "cell_type": "markdown",
   "metadata": {},
   "source": [
    "To visualize the game state, we define a function that prints the board."
   ]
  },
  {
   "cell_type": "code",
   "execution_count": 3,
   "metadata": {},
   "outputs": [],
   "source": [
    "from rich import print\n",
    "\n",
    "BOARD_STRING = \"\"\"\n",
    " ? | ? | ? | ? | ? | ? | ?\n",
    "---|---|---|---|---|---|---\n",
    " ? | ? | ? | ? | ? | ? | ?\n",
    "---|---|---|---|---|---|---\n",
    " ? | ? | ? | ? | ? | ? | ?\n",
    "---|---|---|---|---|---|---\n",
    " ? | ? | ? | ? | ? | ? | ?\n",
    "---|---|---|---|---|---|---\n",
    " ? | ? | ? | ? | ? | ? | ?\n",
    "---|---|---|---|---|---|---\n",
    " ? | ? | ? | ? | ? | ? | ?\n",
    "---|---|---|---|---|---|---\n",
    " 1   2   3   4   5   6   7\n",
    "\"\"\"\n",
    "\n",
    "def print_board(board: Board):\n",
    "    board_str = BOARD_STRING\n",
    "    for i in reversed(range(board.shape[0])):\n",
    "        for j in range(board.shape[1]):\n",
    "            board_str = board_str.replace('?', '[green]X[/green]' if board[i, j] == 1 else '[red]O[/red]' if board[i, j] == -1 else ' ', 1)\n",
    "    print(board_str)"
   ]
  },
  {
   "attachments": {},
   "cell_type": "markdown",
   "metadata": {},
   "source": [
    "Let's write a function that checks if the game is over.\n",
    "We iterate over all horizontal/vertical/diagonal/anti-diagonal lines and check if there are 4 consecutive pieces of the same color."
   ]
  },
  {
   "cell_type": "code",
   "execution_count": 4,
   "metadata": {},
   "outputs": [],
   "source": [
    "import jax.numpy as jnp\n",
    "\n",
    "def horizontals(board: Board) -> chex.Array:\n",
    "    return jnp.stack([\n",
    "        board[i, j:j+4]\n",
    "        for i in range(board.shape[0])\n",
    "        for j in range(board.shape[1] - 3)\n",
    "    ])\n",
    "\n",
    "def verticals(board: Board) -> chex.Array:\n",
    "    return jnp.stack([\n",
    "        board[i:i+4, j]\n",
    "        for i in range(board.shape[0] - 3)\n",
    "        for j in range(board.shape[1])\n",
    "    ])\n",
    "\n",
    "def diagonals(board: Board) -> chex.Array:\n",
    "    return jnp.stack([\n",
    "        jnp.diag(board[i:i+4, j:j+4])\n",
    "        for i in range(board.shape[0] - 3)\n",
    "        for j in range(board.shape[1] - 3)\n",
    "    ])\n",
    "\n",
    "def antidiagonals(board: Board) -> chex.Array:\n",
    "    return jnp.stack([\n",
    "        jnp.diag(board[i:i+4, j:j+4][::-1])\n",
    "        for i in range(board.shape[0] - 3)\n",
    "        for j in range(board.shape[1] - 3)\n",
    "    ])\n",
    "\n",
    "def get_winner(board: Board) -> Player:\n",
    "    all_lines = jnp.concatenate((\n",
    "        horizontals(board),\n",
    "        verticals(board),\n",
    "        diagonals(board),\n",
    "        antidiagonals(board),\n",
    "    ))\n",
    "    # x_won and o_won are 1 if the player won, 0 otherwise\n",
    "    x_won = jnp.any(jnp.all(all_lines == 1, axis=1)).astype(jnp.int8)\n",
    "    o_won = jnp.any(jnp.all(all_lines == -1, axis=1)).astype(jnp.int8)\n",
    "    # We consider the following cases:\n",
    "    # - !x_won and !o_won -> 0 - 0 = 0 -> draw OR not finished\n",
    "    # - x_won and !o_won -> 1 - 0 = 1 -> Player 1 (X) won\n",
    "    # - !x_won and o_won -> 0 - 1 = -1 -> Player -1 (O) won\n",
    "    # - x_won and o_won -> impossible, the game would have ended earlier\n",
    "    return x_won - o_won"
   ]
  },
  {
   "attachments": {},
   "cell_type": "markdown",
   "metadata": {},
   "source": [
    "Finally, we can implement the environment dynamics:\n",
    "\n",
    "* `env_reset` creates a brand new game\n",
    "* `env_step` plays a move and returns the new state, the reward **for the player who played the move** and whether the game has ended"
   ]
  },
  {
   "cell_type": "code",
   "execution_count": 5,
   "metadata": {},
   "outputs": [],
   "source": [
    "import jax.numpy as jnp\n",
    "\n",
    "def env_reset(_):\n",
    "    return Env(\n",
    "        board=jnp.zeros((6, 7), dtype=jnp.int8),\n",
    "        player=jnp.int8(1),\n",
    "        done=jnp.bool_(False),\n",
    "        reward=jnp.int8(0),\n",
    "    )"
   ]
  },
  {
   "attachments": {},
   "cell_type": "markdown",
   "metadata": {},
   "source": [
    "You might be wondering why `env_reset` takes an unused argument.\n",
    "This allows us to parallelize the environment with the `jax.vmap` function:"
   ]
  },
  {
   "cell_type": "code",
   "execution_count": 6,
   "metadata": {},
   "outputs": [
    {
     "name": "stderr",
     "output_type": "stream",
     "text": [
      "2024-03-14 16:12:21.880761: W external/xla/xla/service/gpu/nvptx_compiler.cc:742] The NVIDIA driver's CUDA version is 12.3 which is older than the ptxas CUDA version (12.4.99). Because the driver is older than the ptxas version, XLA is disabling parallel compilation, which may slow down compilation. You should update your NVIDIA driver or use the NVIDIA-provided CUDA forward compatibility packages.\n"
     ]
    },
    {
     "data": {
      "text/plain": [
       "Array([1, 1, 1, 1, 1, 1, 1, 1, 1, 1], dtype=int8)"
      ]
     },
     "execution_count": 6,
     "metadata": {},
     "output_type": "execute_result"
    }
   ],
   "source": [
    "import jax\n",
    "\n",
    "jax.vmap(env_reset)(jnp.arange(10)).player\n",
    "# 10 games have been created:"
   ]
  },
  {
   "attachments": {},
   "cell_type": "markdown",
   "metadata": {},
   "source": [
    "You need to perfectly understand the `env_step` function to implement the MCTS algorithm.\n",
    "\n",
    "In particular, you need to understand that the reward returned by `env_step` is the reward **for the player who played the move**.\n",
    "This means that the reward should always be either 0 for a move that does not end the game or causes a draw, or 1 for a move that ends the game with a win for the player who played the move.\n",
    "\n",
    "A reward of -1 is reserved for punishing illegal moves.\n",
    "Since `mctx` does not support masking illegal moves below the root node, we need another way to stop the MCTS algorithm from exploring illegal moves.\n",
    "Later, we will also write a custom policy function that will never select illegal moves."
   ]
  },
  {
   "cell_type": "code",
   "execution_count": 7,
   "metadata": {},
   "outputs": [],
   "source": [
    "def env_step(env: Env, action: Action) -> tuple[Env, Reward, Done]:\n",
    "    col = action\n",
    "\n",
    "    # Find the first empty row in the column.\n",
    "    # If the column is full, this will be the top row.\n",
    "    row = jnp.argmax(env.board[:, col] == 0)\n",
    "\n",
    "    # If the column is full, the move is invalid.\n",
    "    invalid_move = env.board[row, col] != 0\n",
    "\n",
    "    # Place the player's piece in the board only if the move is valid and the game is not over.\n",
    "    board = env.board.at[row, col].set(jnp.where(env.done | invalid_move, env.board[row, col], env.player))\n",
    "\n",
    "    # The reward is computed as follows:\n",
    "    # * 0 if the game is **already** over. This is to ignore nodes below terminal nodes.\n",
    "    # * -1 if the move is invalid\n",
    "    # * 1 if the move won the game for the current player\n",
    "    # * 0 if the move caused a draw\n",
    "    # * (impossible for Connect 4) -1 if the move lost the game for the current player\n",
    "    reward = jnp.where(env.done, 0, jnp.where(invalid_move, -1, get_winner(board) * env.player)).astype(jnp.int8)\n",
    "\n",
    "    # We end the game if:\n",
    "    # * the game was already over\n",
    "    # * the move won or lost the game\n",
    "    # * the move was invalid\n",
    "    # * the board is full (draw)\n",
    "    done = env.done | reward != 0 | invalid_move | jnp.all(board[-1] != 0)\n",
    "\n",
    "    env = Env(\n",
    "        board=board,\n",
    "        # switch player\n",
    "        player=jnp.where(done, env.player, -env.player),\n",
    "        done=done,\n",
    "        reward=reward,\n",
    "    )\n",
    "\n",
    "    return env, reward, done"
   ]
  },
  {
   "attachments": {},
   "cell_type": "markdown",
   "metadata": {},
   "source": [
    "## The MCTS algorithm\n",
    "\n",
    "We can now implement the MCTS algorithm."
   ]
  },
  {
   "attachments": {},
   "cell_type": "markdown",
   "metadata": {},
   "source": [
    "Let's start with some helper functions."
   ]
  },
  {
   "cell_type": "code",
   "execution_count": 8,
   "metadata": {},
   "outputs": [],
   "source": [
    "def valid_action_mask(env: Env) -> chex.Array:\n",
    "    '''\n",
    "    Computes which actions are valid in the current state.\n",
    "    Returns an array of booleans, indicating which columns are not full.\n",
    "    In case the game is over, all columns are considered invalid.\n",
    "    '''\n",
    "    return jnp.where(env.done, jnp.array([False] * env.board.shape[1]), env.board[-1] == 0)"
   ]
  },
  {
   "cell_type": "code",
   "execution_count": 9,
   "metadata": {},
   "outputs": [],
   "source": [
    "def winning_action_mask(env: Env, player: Player) -> chex.Array:\n",
    "    '''\n",
    "    Finds all actions that would immediately win the game for the given player.\n",
    "    '''\n",
    "    # Override the next player in the environment with the given player.\n",
    "    env = Env(board=env.board, player=player, done=env.done, reward=env.reward)\n",
    "\n",
    "    # Play all actions and check the reward.\n",
    "    # Remember that the reward is for the current player, so we expect it to be 1.\n",
    "    env, reward, done = jax.vmap(env_step, (None, 0))(env, jnp.arange(7, dtype=jnp.int8))\n",
    "    return reward == 1"
   ]
  },
  {
   "attachments": {},
   "cell_type": "markdown",
   "metadata": {},
   "source": [
    "Next, we define a policy function. The policy function is used in two places:\n",
    "\n",
    "* during random rollouts to select the next action to play\n",
    "* during node expansion as the prior distribution\n",
    "\n",
    "We could have used a uniform distribution for both, but we can do better.\n",
    "Let's use three simple heuristics:\n",
    "\n",
    "* never select illegal moves\n",
    "* always select winning moves if available\n",
    "* always block opponent's winning moves if we have no winning move\n",
    "\n",
    "Our policy function implementation returns unnormalized logits,\n",
    "so we cannot return pure 0% and 100% probabilities (using `inf` and `-inf` causes downstream numerical issues).\n",
    "Instead, we add `100` to the logits of a given action which we want to prioritize:\n",
    "\n",
    "* the lowest priority of `0` is assigned to illegal moves\n",
    "* a medium priority of `100` is assigned to legal moves\n",
    "* a higher priority of `200` is assigned to the opponent's winning moves\n",
    "* the highest priority of `300` is assigned to our winning moves"
   ]
  },
  {
   "cell_type": "code",
   "execution_count": 10,
   "metadata": {},
   "outputs": [],
   "source": [
    "def policy_function(env: Env) -> chex.Array:\n",
    "    # return jnp.zeros(env.board.shape[1], dtype=jnp.float32)\n",
    "    return sum((\n",
    "        valid_action_mask(env).astype(jnp.float32) * 100,\n",
    "        winning_action_mask(env, -env.player).astype(jnp.float32) * 200,\n",
    "        winning_action_mask(env, env.player).astype(jnp.float32) * 300,\n",
    "    ))"
   ]
  },
  {
   "attachments": {},
   "cell_type": "markdown",
   "metadata": {},
   "source": [
    "This is how these logits translate to probabilities:"
   ]
  },
  {
   "cell_type": "code",
   "execution_count": 11,
   "metadata": {},
   "outputs": [
    {
     "data": {
      "text/plain": [
       "Array([1.0e+00, 0.0e+00, 0.0e+00, 0.0e+00, 0.0e+00, 0.0e+00, 3.8e-44],      dtype=float32)"
      ]
     },
     "execution_count": 11,
     "metadata": {},
     "output_type": "execute_result"
    }
   ],
   "source": [
    "env = env_reset(0)\n",
    "env, _, _ = env_step(env, 0)\n",
    "env, _, _ = env_step(env, 6)\n",
    "env, _, _ = env_step(env, 0)\n",
    "env, _, _ = env_step(env, 6)\n",
    "env, _, _ = env_step(env, 0)\n",
    "env, _, _ = env_step(env, 6)\n",
    "jax.nn.softmax(policy_function(env))"
   ]
  },
  {
   "cell_type": "code",
   "execution_count": 11,
   "metadata": {},
   "outputs": [
    {
     "data": {
      "text/plain": [
       "Array([0.14285715, 0.14285715, 0.14285715, 0.14285715, 0.14285715,\n",
       "       0.14285715, 0.14285715], dtype=float32)"
      ]
     },
     "execution_count": 11,
     "metadata": {},
     "output_type": "execute_result"
    }
   ],
   "source": [
    "jax.nn.softmax(jnp.array([0.0, 0.0, 0.0, 0.0, 0.0, 0.0, 0.0]))"
   ]
  },
  {
   "cell_type": "code",
   "execution_count": 13,
   "metadata": {},
   "outputs": [
    {
     "data": {
      "text/plain": [
       "Array([1.0e+00, 3.8e-44, 3.8e-44, 3.8e-44, 3.8e-44, 3.8e-44, 3.8e-44],      dtype=float32)"
      ]
     },
     "execution_count": 13,
     "metadata": {},
     "output_type": "execute_result"
    }
   ],
   "source": [
    "jax.nn.softmax(jnp.array([100.0, 0.0, 0.0, 0.0, 0.0, 0.0, 0.0]))"
   ]
  },
  {
   "cell_type": "code",
   "execution_count": 12,
   "metadata": {},
   "outputs": [
    {
     "data": {
      "text/plain": [
       "Array([3.8e-44, 1.0e+00, 0.0e+00, 0.0e+00, 0.0e+00, 0.0e+00, 0.0e+00],      dtype=float32)"
      ]
     },
     "execution_count": 12,
     "metadata": {},
     "output_type": "execute_result"
    }
   ],
   "source": [
    "jax.nn.softmax(jnp.array([100.0, 200.0, 0.0, 0.0, 0.0, 0.0, 0.0]))"
   ]
  },
  {
   "cell_type": "code",
   "execution_count": 14,
   "metadata": {},
   "outputs": [
    {
     "data": {
      "text/plain": [
       "Array([0.0e+00, 3.8e-44, 1.0e+00, 0.0e+00, 0.0e+00, 0.0e+00, 0.0e+00],      dtype=float32)"
      ]
     },
     "execution_count": 14,
     "metadata": {},
     "output_type": "execute_result"
    }
   ],
   "source": [
    "jax.nn.softmax(jnp.array([100.0, 200.0, 300.0, 0.0, 0.0, 0.0, 0.0]))"
   ]
  },
  {
   "cell_type": "code",
   "execution_count": 15,
   "metadata": {},
   "outputs": [
    {
     "data": {
      "text/plain": [
       "Array([0.e+00, 2.e-44, 5.e-01, 5.e-01, 0.e+00, 0.e+00, 0.e+00], dtype=float32)"
      ]
     },
     "execution_count": 15,
     "metadata": {},
     "output_type": "execute_result"
    }
   ],
   "source": [
    "jax.nn.softmax(jnp.array([100.0, 200.0, 300.0, 300.0, 0.0, 0.0, 0.0]))"
   ]
  },
  {
   "attachments": {},
   "cell_type": "markdown",
   "metadata": {},
   "source": [
    "You can see that a difference of 100 is enough to make a move almost certain to be selected."
   ]
  },
  {
   "attachments": {},
   "cell_type": "markdown",
   "metadata": {},
   "source": [
    "The MCTS algorithm uses random rollouts to estimate the value of each state.\n",
    "We can implement this with a simple function that plays moves according to our policy function until the game ends."
   ]
  },
  {
   "cell_type": "code",
   "execution_count": 12,
   "metadata": {},
   "outputs": [],
   "source": [
    "def rollout(env: Env, rng_key: chex.PRNGKey) -> Reward:\n",
    "    '''\n",
    "    Plays a game until the end and returns the reward from the perspective of the initial player.\n",
    "    '''\n",
    "    def cond(a):\n",
    "        env, key = a\n",
    "        return ~env.done\n",
    "    def step(a):\n",
    "        env, key = a\n",
    "        key, subkey = jax.random.split(key)\n",
    "        action = jax.random.categorical(subkey, policy_function(env))\n",
    "        env, reward, done = env_step(env, action)\n",
    "        return env, key\n",
    "    leaf, key = jax.lax.while_loop(cond, step, (env, rng_key))\n",
    "    # The leaf reward is from the perspective of the last player.\n",
    "    # We negate it if the last player is not the initial player.\n",
    "    return leaf.reward * leaf.player * env.player"
   ]
  },
  {
   "attachments": {},
   "cell_type": "markdown",
   "metadata": {},
   "source": [
    "The value function is simply the result of the rollout."
   ]
  },
  {
   "cell_type": "code",
   "execution_count": 13,
   "metadata": {},
   "outputs": [],
   "source": [
    "def value_function(env: Env, rng_key: chex.PRNGKey) -> chex.Array:\n",
    "    return rollout(env, rng_key).astype(jnp.float32)"
   ]
  },
  {
   "attachments": {},
   "cell_type": "markdown",
   "metadata": {},
   "source": [
    "## Running mctx\n",
    "\n",
    "Finally, we get to use the `mctx` library.\n",
    "We need two function:\n",
    "\n",
    "* `root_fn` returns the root node of the MCTS tree\n",
    "* `recurrent_fn` expands a new node given a parent node and an action"
   ]
  },
  {
   "cell_type": "code",
   "execution_count": 14,
   "metadata": {},
   "outputs": [],
   "source": [
    "import mctx\n",
    "\n",
    "def root_fn(env: Env, rng_key: chex.PRNGKey) -> mctx.RootFnOutput:\n",
    "    return mctx.RootFnOutput(\n",
    "        prior_logits=policy_function(env),\n",
    "        value=value_function(env, rng_key),\n",
    "        # We will use the `embedding` field to store the environment.\n",
    "        embedding=env,\n",
    "    )"
   ]
  },
  {
   "cell_type": "code",
   "execution_count": 15,
   "metadata": {},
   "outputs": [],
   "source": [
    "def recurrent_fn(params, rng_key, action, embedding):\n",
    "    # Extract the environment from the embedding.\n",
    "    env = embedding\n",
    "\n",
    "    # Play the action.\n",
    "    env, reward, done = env_step(env, action)\n",
    "\n",
    "    # Create the new MCTS node.\n",
    "    recurrent_fn_output = mctx.RecurrentFnOutput(\n",
    "        # reward for playing `action`\n",
    "        reward=reward,\n",
    "        # discount explained in the next section\n",
    "        discount=jnp.where(done, 0, -1).astype(jnp.float32),\n",
    "        # prior for the new state\n",
    "        prior_logits=policy_function(env),\n",
    "        # value for the new state\n",
    "        value=jnp.where(done, 0, value_function(env, rng_key)).astype(jnp.float32),\n",
    "    )\n",
    "\n",
    "    # Return the new node and the new environment.\n",
    "    return recurrent_fn_output, env"
   ]
  },
  {
   "attachments": {},
   "cell_type": "markdown",
   "metadata": {},
   "source": [
    "The `discount` field is used to flip the sign of the reward and value at each tree level.\n",
    "It would be possible to implement this in the environment dynamics, but it is more convenient to do it here.\n",
    "By flipping the sign, MCTS selects the best action for the current player of each turn.\n",
    "\n",
    "Note that we set `discount` to `0` when the game is over.\n",
    "This discards all the rewards and values after the end of the game."
   ]
  },
  {
   "attachments": {},
   "cell_type": "markdown",
   "metadata": {},
   "source": [
    "And now we can run MCTS!"
   ]
  },
  {
   "cell_type": "code",
   "execution_count": 16,
   "metadata": {},
   "outputs": [],
   "source": [
    "import functools\n",
    "\n",
    "@functools.partial(jax.jit, static_argnums=(2,))\n",
    "def run_mcts(rng_key: chex.PRNGKey, env: Env, num_simulations: int) -> chex.Array:\n",
    "    batch_size = 1\n",
    "    key1, key2 = jax.random.split(rng_key)\n",
    "    policy_output = mctx.muzero_policy(\n",
    "        # params can be used to pass additional data to the recurrent_fn like neural network weights\n",
    "        params=None,\n",
    "\n",
    "        rng_key=key1,\n",
    "\n",
    "        # create a batch of environments (in this case, a batch of size 1)\n",
    "        root=jax.vmap(root_fn, (None, 0))(env, jax.random.split(key2, batch_size)),\n",
    "\n",
    "        # automatically vectorize the recurrent_fn\n",
    "        recurrent_fn=jax.vmap(recurrent_fn, (None, None, 0, 0)),\n",
    "\n",
    "        num_simulations=num_simulations,\n",
    "\n",
    "        # we limit the depth of the search tree to 42, since we know that Connect Four can't last longer\n",
    "        max_depth=42,\n",
    "\n",
    "        # our value is in the range [-1, 1], so we can use the min_max qtransform to map it to [0, 1]\n",
    "        qtransform=functools.partial(mctx.qtransform_by_min_max, min_value=-1, max_value=1),\n",
    "\n",
    "        # Dirichlet noise is used for exploration which we don't need in this example (we aren't training)\n",
    "        dirichlet_fraction=0.0,\n",
    "    )\n",
    "    return policy_output"
   ]
  },
  {
   "attachments": {},
   "cell_type": "markdown",
   "metadata": {},
   "source": [
    "Let's play the middle column two times and see what MCTS does:"
   ]
  },
  {
   "cell_type": "code",
   "execution_count": 44,
   "metadata": {},
   "outputs": [
    {
     "data": {
      "text/html": [
       "<pre style=\"white-space:pre;overflow-x:auto;line-height:normal;font-family:Menlo,'DejaVu Sans Mono',consolas,'Courier New',monospace\"><span style=\"font-weight: bold\">[[</span><span style=\"color: #008080; text-decoration-color: #008080; font-weight: bold\">0.072</span>      <span style=\"color: #008080; text-decoration-color: #008080; font-weight: bold\">0.238</span>      <span style=\"color: #008080; text-decoration-color: #008080; font-weight: bold\">0.193</span>      <span style=\"color: #008080; text-decoration-color: #008080; font-weight: bold\">0.11400001</span> <span style=\"color: #008080; text-decoration-color: #008080; font-weight: bold\">0.29000002</span> <span style=\"color: #008080; text-decoration-color: #008080; font-weight: bold\">0.066</span>\n",
       "  <span style=\"color: #008080; text-decoration-color: #008080; font-weight: bold\">0.027</span>     <span style=\"font-weight: bold\">]]</span>\n",
       "</pre>\n"
      ],
      "text/plain": [
       "\u001b[1m[\u001b[0m\u001b[1m[\u001b[0m\u001b[1;36m0.072\u001b[0m      \u001b[1;36m0.238\u001b[0m      \u001b[1;36m0.193\u001b[0m      \u001b[1;36m0.11400001\u001b[0m \u001b[1;36m0.29000002\u001b[0m \u001b[1;36m0.066\u001b[0m\n",
       "  \u001b[1;36m0.027\u001b[0m     \u001b[1m]\u001b[0m\u001b[1m]\u001b[0m\n"
      ]
     },
     "metadata": {},
     "output_type": "display_data"
    },
    {
     "data": {
      "image/png": "[encoded data removed]",
      "text/plain": [
       "<Figure size 640x480 with 1 Axes>"
      ]
     },
     "metadata": {},
     "output_type": "display_data"
    },
    {
     "ename": "",
     "evalue": "",
     "output_type": "error",
     "traceback": [
      "\u001b[1;31mThe Kernel crashed while executing code in the current cell or a previous cell. \n",
      "\u001b[1;31mPlease review the code in the cell(s) to identify a possible cause of the failure. \n",
      "\u001b[1;31mClick <a href='https://aka.ms/vscodeJupyterKernelCrash'>here</a> for more info. \n",
      "\u001b[1;31mView Jupyter <a href='command:jupyter.viewOutput'>log</a> for further details."
     ]
    }
   ],
   "source": [
    "env = env_reset(0)\n",
    "env, reward, done = env_step(env, 3)\n",
    "env, reward, done = env_step(env, 3)\n",
    "policy_output = run_mcts(jax.random.PRNGKey(38), env, 1000)\n",
    "print(policy_output.action_weights)\n",
    "\n",
    "import matplotlib.pyplot as plt\n",
    "plt.bar(jnp.arange(7), policy_output.action_weights.mean(axis=0))\n",
    "plt.show()"
   ]
  },
  {
   "attachments": {},
   "cell_type": "markdown",
   "metadata": {},
   "source": [
    "It chose the middle column as the best move, as expected."
   ]
  },
  {
   "attachments": {},
   "cell_type": "markdown",
   "metadata": {},
   "source": [
    "Let's write a simple script to play against MCTS:"
   ]
  },
  {
   "cell_type": "code",
   "execution_count": null,
   "metadata": {},
   "outputs": [],
   "source": [
    "# set to False to enable human input\n",
    "player_1_ai = True\n",
    "player_2_ai = True\n",
    "\n",
    "key = jax.random.PRNGKey(0)\n",
    "env = env_reset(0)\n",
    "print_board(env.board)\n",
    "while True:\n",
    "    if player_1_ai:\n",
    "        action = run_mcts(key, env, 1000).action_weights.argmax().item()\n",
    "    else:\n",
    "        action = int(input()) - 1\n",
    "\n",
    "    env, reward, done = env_step(env, action)\n",
    "    print_board(env.board)\n",
    "    if done: break\n",
    "\n",
    "    if player_2_ai:\n",
    "        # you can give it more simulations to make it stronger\n",
    "        action = run_mcts(key, env, 1000).action_weights.argmax().item()\n",
    "    else:\n",
    "        action = int(input()) - 1\n",
    "\n",
    "    env, reward, done = env_step(env, action)\n",
    "    print_board(env.board)\n",
    "    if done: break\n",
    "\n",
    "players = {\n",
    "    1: \"[green]X[/green]\",\n",
    "    -1: \"[red]O[/red]\",\n",
    "}\n",
    "print(f\"Winner: {players[env.player.item()]}\")"
   ]
  },
  {
   "cell_type": "code",
   "execution_count": 36,
   "metadata": {},
   "outputs": [
    {
     "data": {
      "text/plain": [
       "(128, 1, 7)"
      ]
     },
     "execution_count": 36,
     "metadata": {},
     "output_type": "execute_result"
    }
   ],
   "source": [
    "envs = jax.vmap(env_reset)(jax.numpy.arange(128))\n",
    "rng_keys = jax.random.split(jax.random.PRNGKey(0), 128)\n",
    "policy_outputs = jax.vmap(run_mcts, in_axes=(0, 0, None))(rng_keys, envs, 1000)\n",
    "policy_outputs.action_weights.shape\n"
   ]
  },
  {
   "attachments": {},
   "cell_type": "markdown",
   "metadata": {},
   "source": [
    "At `10_000` simulations, the agent was able to beat all online Connect 4 bots I could find."
   ]
  }
 ],
 "metadata": {
  "kernelspec": {
   "display_name": "mctx-classic",
   "language": "python",
   "name": "python3"
  },
  "language_info": {
   "codemirror_mode": {
    "name": "ipython",
    "version": 3
   },
   "file_extension": ".py",
   "mimetype": "text/x-python",
   "name": "python",
   "nbconvert_exporter": "python",
   "pygments_lexer": "ipython3",
   "version": "3.11.4"
  },
  "orig_nbformat": 4
 },
 "nbformat": 4,
 "nbformat_minor": 2
}
